{
 "cells": [
  {
   "cell_type": "markdown",
   "id": "6dda042c",
   "metadata": {},
   "source": [
    "# Buscanto os Valores das Ações"
   ]
  },
  {
   "cell_type": "code",
   "execution_count": 62,
   "id": "ba17c4b5",
   "metadata": {},
   "outputs": [],
   "source": [
    "from pandas_datareader import data as pdr\n",
    "import pandas as pd\n",
    "import yfinance as yf\n",
    "import plotly.graph_objects as go\n",
    "\n",
    "yf.pdr_override()"
   ]
  },
  {
   "cell_type": "code",
   "execution_count": 63,
   "id": "c4ff5105",
   "metadata": {},
   "outputs": [],
   "source": [
    "# Especifique o símbolo da ação que você deseja buscar\n",
    "portfolio = [\"VALE3.SA\", \"PETR4.SA\"]  # Apple Inc. como exemplo\n",
    "\n",
    "initial_date = \"2023-07-01\"\n",
    "final_date = \"2023-09-07\""
   ]
  },
  {
   "cell_type": "code",
   "execution_count": 64,
   "id": "0e2433ac",
   "metadata": {},
   "outputs": [
    {
     "name": "stdout",
     "output_type": "stream",
     "text": [
      "[*********************100%%**********************]  2 of 2 completed\n"
     ]
    },
    {
     "data": {
      "text/html": [
       "<div>\n",
       "<style scoped>\n",
       "    .dataframe tbody tr th:only-of-type {\n",
       "        vertical-align: middle;\n",
       "    }\n",
       "\n",
       "    .dataframe tbody tr th {\n",
       "        vertical-align: top;\n",
       "    }\n",
       "\n",
       "    .dataframe thead tr th {\n",
       "        text-align: left;\n",
       "    }\n",
       "\n",
       "    .dataframe thead tr:last-of-type th {\n",
       "        text-align: right;\n",
       "    }\n",
       "</style>\n",
       "<table border=\"1\" class=\"dataframe\">\n",
       "  <thead>\n",
       "    <tr>\n",
       "      <th></th>\n",
       "      <th colspan=\"2\" halign=\"left\">Adj Close</th>\n",
       "      <th colspan=\"2\" halign=\"left\">Close</th>\n",
       "      <th colspan=\"2\" halign=\"left\">High</th>\n",
       "      <th colspan=\"2\" halign=\"left\">Low</th>\n",
       "      <th colspan=\"2\" halign=\"left\">Open</th>\n",
       "      <th colspan=\"2\" halign=\"left\">Volume</th>\n",
       "    </tr>\n",
       "    <tr>\n",
       "      <th></th>\n",
       "      <th>PETR4.SA</th>\n",
       "      <th>VALE3.SA</th>\n",
       "      <th>PETR4.SA</th>\n",
       "      <th>VALE3.SA</th>\n",
       "      <th>PETR4.SA</th>\n",
       "      <th>VALE3.SA</th>\n",
       "      <th>PETR4.SA</th>\n",
       "      <th>VALE3.SA</th>\n",
       "      <th>PETR4.SA</th>\n",
       "      <th>VALE3.SA</th>\n",
       "      <th>PETR4.SA</th>\n",
       "      <th>VALE3.SA</th>\n",
       "    </tr>\n",
       "    <tr>\n",
       "      <th>Date</th>\n",
       "      <th></th>\n",
       "      <th></th>\n",
       "      <th></th>\n",
       "      <th></th>\n",
       "      <th></th>\n",
       "      <th></th>\n",
       "      <th></th>\n",
       "      <th></th>\n",
       "      <th></th>\n",
       "      <th></th>\n",
       "      <th></th>\n",
       "      <th></th>\n",
       "    </tr>\n",
       "  </thead>\n",
       "  <tbody>\n",
       "    <tr>\n",
       "      <th>2023-07-03</th>\n",
       "      <td>28.975494</td>\n",
       "      <td>64.290443</td>\n",
       "      <td>30.080000</td>\n",
       "      <td>66.230003</td>\n",
       "      <td>30.180000</td>\n",
       "      <td>66.500000</td>\n",
       "      <td>29.719999</td>\n",
       "      <td>64.639999</td>\n",
       "      <td>29.719999</td>\n",
       "      <td>64.709999</td>\n",
       "      <td>31266900</td>\n",
       "      <td>22738400</td>\n",
       "    </tr>\n",
       "    <tr>\n",
       "      <th>2023-07-04</th>\n",
       "      <td>29.042923</td>\n",
       "      <td>63.970108</td>\n",
       "      <td>30.150000</td>\n",
       "      <td>65.900002</td>\n",
       "      <td>30.389999</td>\n",
       "      <td>66.459999</td>\n",
       "      <td>29.959999</td>\n",
       "      <td>65.800003</td>\n",
       "      <td>29.959999</td>\n",
       "      <td>65.839996</td>\n",
       "      <td>18308000</td>\n",
       "      <td>12573200</td>\n",
       "    </tr>\n",
       "    <tr>\n",
       "      <th>2023-07-05</th>\n",
       "      <td>29.004393</td>\n",
       "      <td>63.407089</td>\n",
       "      <td>30.110001</td>\n",
       "      <td>65.320000</td>\n",
       "      <td>30.549999</td>\n",
       "      <td>65.860001</td>\n",
       "      <td>29.660000</td>\n",
       "      <td>65.010002</td>\n",
       "      <td>30.160000</td>\n",
       "      <td>65.610001</td>\n",
       "      <td>53585500</td>\n",
       "      <td>27363600</td>\n",
       "    </tr>\n",
       "    <tr>\n",
       "      <th>2023-07-06</th>\n",
       "      <td>28.561283</td>\n",
       "      <td>62.950855</td>\n",
       "      <td>29.650000</td>\n",
       "      <td>64.849998</td>\n",
       "      <td>30.000000</td>\n",
       "      <td>65.589996</td>\n",
       "      <td>29.150000</td>\n",
       "      <td>64.440002</td>\n",
       "      <td>29.850000</td>\n",
       "      <td>64.720001</td>\n",
       "      <td>47685700</td>\n",
       "      <td>18579200</td>\n",
       "    </tr>\n",
       "    <tr>\n",
       "      <th>2023-07-07</th>\n",
       "      <td>28.416790</td>\n",
       "      <td>63.542992</td>\n",
       "      <td>29.500000</td>\n",
       "      <td>65.459999</td>\n",
       "      <td>30.200001</td>\n",
       "      <td>65.599998</td>\n",
       "      <td>29.360001</td>\n",
       "      <td>64.309998</td>\n",
       "      <td>29.760000</td>\n",
       "      <td>64.480003</td>\n",
       "      <td>55533500</td>\n",
       "      <td>57287600</td>\n",
       "    </tr>\n",
       "  </tbody>\n",
       "</table>\n",
       "</div>"
      ],
      "text/plain": [
       "            Adj Close                 Close                  High             \\\n",
       "             PETR4.SA   VALE3.SA   PETR4.SA   VALE3.SA   PETR4.SA   VALE3.SA   \n",
       "Date                                                                           \n",
       "2023-07-03  28.975494  64.290443  30.080000  66.230003  30.180000  66.500000   \n",
       "2023-07-04  29.042923  63.970108  30.150000  65.900002  30.389999  66.459999   \n",
       "2023-07-05  29.004393  63.407089  30.110001  65.320000  30.549999  65.860001   \n",
       "2023-07-06  28.561283  62.950855  29.650000  64.849998  30.000000  65.589996   \n",
       "2023-07-07  28.416790  63.542992  29.500000  65.459999  30.200001  65.599998   \n",
       "\n",
       "                  Low                  Open               Volume            \n",
       "             PETR4.SA   VALE3.SA   PETR4.SA   VALE3.SA  PETR4.SA  VALE3.SA  \n",
       "Date                                                                        \n",
       "2023-07-03  29.719999  64.639999  29.719999  64.709999  31266900  22738400  \n",
       "2023-07-04  29.959999  65.800003  29.959999  65.839996  18308000  12573200  \n",
       "2023-07-05  29.660000  65.010002  30.160000  65.610001  53585500  27363600  \n",
       "2023-07-06  29.150000  64.440002  29.850000  64.720001  47685700  18579200  \n",
       "2023-07-07  29.360001  64.309998  29.760000  64.480003  55533500  57287600  "
      ]
     },
     "execution_count": 64,
     "metadata": {},
     "output_type": "execute_result"
    }
   ],
   "source": [
    "# Obtenha os dados da cotação\n",
    "prices = pdr.get_data_yahoo(portfolio, initial_date, final_date)\n",
    "\n",
    "# Exiba a cotação\n",
    "prices.head()"
   ]
  },
  {
   "cell_type": "code",
   "execution_count": 65,
   "id": "c5788b41",
   "metadata": {},
   "outputs": [
    {
     "data": {
      "text/plain": [
       "MultiIndex([('Adj Close', 'PETR4.SA'),\n",
       "            ('Adj Close', 'VALE3.SA'),\n",
       "            (    'Close', 'PETR4.SA'),\n",
       "            (    'Close', 'VALE3.SA'),\n",
       "            (     'High', 'PETR4.SA'),\n",
       "            (     'High', 'VALE3.SA'),\n",
       "            (      'Low', 'PETR4.SA'),\n",
       "            (      'Low', 'VALE3.SA'),\n",
       "            (     'Open', 'PETR4.SA'),\n",
       "            (     'Open', 'VALE3.SA'),\n",
       "            (   'Volume', 'PETR4.SA'),\n",
       "            (   'Volume', 'VALE3.SA')],\n",
       "           )"
      ]
     },
     "execution_count": 65,
     "metadata": {},
     "output_type": "execute_result"
    }
   ],
   "source": [
    "prices.columns"
   ]
  },
  {
   "cell_type": "code",
   "execution_count": 66,
   "id": "b70a7e64",
   "metadata": {},
   "outputs": [],
   "source": [
    "def filter_stock(prices, stock):\n",
    "    return {\n",
    "    'x': prices.index,\n",
    "    'open': prices.Open[stock],\n",
    "    'close': prices.Close[stock],\n",
    "    'high': prices.High[stock],\n",
    "    'low': prices.Low[stock],\n",
    "    'type': 'candlestick',\n",
    "    'name': stock,\n",
    "    'showlegend': False\n",
    "    }"
   ]
  },
  {
   "cell_type": "code",
   "execution_count": 67,
   "id": "1fbab290",
   "metadata": {},
   "outputs": [],
   "source": [
    "def interactive_chart(prices, stock):\n",
    "\n",
    "    data = [filter_stock(prices, stock)]\n",
    "    layout = go.Layout()\n",
    "    fig = go.Figure(data=data, layout=layout)\n",
    "    fig.show()"
   ]
  },
  {
   "cell_type": "code",
   "execution_count": 68,
   "id": "fc4a341b",
   "metadata": {},
   "outputs": [
    {
     "data": {
      "application/vnd.plotly.v1+json": {
       "config": {
        "plotlyServerURL": "https://plot.ly"
       },
       "data": [
        {
         "close": [
          30.079999923706055,
          30.149999618530273,
          30.110000610351562,
          29.649999618530273,
          29.5,
          29.549999237060547,
          29.149999618530273,
          29.170000076293945,
          29.6299991607666,
          29.049999237060547,
          28.989999771118164,
          28.829999923706055,
          29.100000381469727,
          29.1299991607666,
          29.68000030517578,
          30.299999237060547,
          31,
          31,
          29.389999389648438,
          29.760000228881836,
          31.110000610351562,
          30.600000381469727,
          30.530000686645508,
          30.920000076293945,
          30,
          30.190000534057617,
          30.219999313354492,
          30.459999084472656,
          30.6299991607666,
          30.559999465942383,
          30.639999389648438,
          30.860000610351562,
          31.540000915527344,
          31.440000534057617,
          31.520000457763672,
          31.299999237060547,
          30.610000610351562,
          32.2400016784668,
          32.189998626708984,
          31.969999313354492,
          32.33000183105469,
          32.400001525878906,
          32.619998931884766,
          31.940000534057617,
          32.630001068115234,
          32.290000915527344,
          33.369998931884766,
          33.52000045776367
         ],
         "high": [
          30.18000030517578,
          30.389999389648438,
          30.549999237060547,
          30,
          30.200000762939453,
          29.670000076293945,
          29.530000686645508,
          29.770000457763672,
          29.719999313354492,
          29.579999923706055,
          29.09000015258789,
          29.200000762939453,
          29.1299991607666,
          29.350000381469727,
          29.860000610351562,
          30.40999984741211,
          31.049999237060547,
          31.219999313354492,
          30.889999389648438,
          29.950000762939453,
          31.149999618530273,
          31.09000015258789,
          30.579999923706055,
          31.1299991607666,
          31.139999389648438,
          30.5,
          30.389999389648438,
          30.719999313354492,
          30.860000610351562,
          31.040000915527344,
          30.739999771118164,
          32.150001525878906,
          31.979999542236328,
          32.189998626708984,
          31.68000030517578,
          32.029998779296875,
          30.610000610351562,
          32.2400016784668,
          32.720001220703125,
          32.470001220703125,
          32.34000015258789,
          32.5,
          32.70000076293945,
          32.790000915527344,
          32.689998626708984,
          32.720001220703125,
          33.4900016784668,
          33.79999923706055
         ],
         "low": [
          29.719999313354492,
          29.959999084472656,
          29.65999984741211,
          29.149999618530273,
          29.360000610351562,
          29.010000228881836,
          29,
          29.139999389648438,
          29.040000915527344,
          28.860000610351562,
          27.950000762939453,
          28.709999084472656,
          28.56999969482422,
          28.8799991607666,
          29.1299991607666,
          29.760000228881836,
          30.200000762939453,
          30.6299991607666,
          29.3799991607666,
          29.31999969482422,
          30.299999237060547,
          29.950000762939453,
          29.799999237060547,
          30.6200008392334,
          29.739999771118164,
          29.860000610351562,
          29.719999313354492,
          30.15999984741211,
          30.1200008392334,
          30.15999984741211,
          30.270000457763672,
          30.850000381469727,
          30.8799991607666,
          31.309999465942383,
          31.18000030517578,
          30.969999313354492,
          30.239999771118164,
          31.09000015258789,
          31.84000015258789,
          31.799999237060547,
          31.860000610351562,
          31.989999771118164,
          32.29999923706055,
          31.8799991607666,
          31.959999084472656,
          32.209999084472656,
          32.220001220703125,
          33.220001220703125
         ],
         "name": "PETR4.SA",
         "open": [
          29.719999313354492,
          29.959999084472656,
          30.15999984741211,
          29.850000381469727,
          29.760000228881836,
          29.110000610351562,
          29.530000686645508,
          29.200000762939453,
          29.06999969482422,
          29.5,
          28.40999984741211,
          29,
          28.809999465942383,
          29.06999969482422,
          29.149999618530273,
          29.799999237060547,
          30.5,
          30.950000762939453,
          30.850000381469727,
          29.43000030517578,
          30.299999237060547,
          31.09000015258789,
          30.510000228881836,
          30.93000030517578,
          30.700000762939453,
          29.860000610351562,
          29.90999984741211,
          30.209999084472656,
          30.299999237060547,
          30.610000610351562,
          30.479999542236328,
          32.04999923706055,
          31,
          31.75,
          31.40999984741211,
          31.700000762939453,
          30.5,
          31.200000762939453,
          32.27000045776367,
          32.380001068115234,
          32.099998474121094,
          32.400001525878906,
          32.40999984741211,
          32.709999084472656,
          32.209999084472656,
          32.68000030517578,
          32.27000045776367,
          33.349998474121094
         ],
         "showlegend": false,
         "type": "candlestick",
         "x": [
          "2023-07-03T00:00:00",
          "2023-07-04T00:00:00",
          "2023-07-05T00:00:00",
          "2023-07-06T00:00:00",
          "2023-07-07T00:00:00",
          "2023-07-10T00:00:00",
          "2023-07-11T00:00:00",
          "2023-07-12T00:00:00",
          "2023-07-13T00:00:00",
          "2023-07-14T00:00:00",
          "2023-07-17T00:00:00",
          "2023-07-18T00:00:00",
          "2023-07-19T00:00:00",
          "2023-07-20T00:00:00",
          "2023-07-21T00:00:00",
          "2023-07-24T00:00:00",
          "2023-07-25T00:00:00",
          "2023-07-26T00:00:00",
          "2023-07-27T00:00:00",
          "2023-07-28T00:00:00",
          "2023-07-31T00:00:00",
          "2023-08-01T00:00:00",
          "2023-08-02T00:00:00",
          "2023-08-03T00:00:00",
          "2023-08-04T00:00:00",
          "2023-08-07T00:00:00",
          "2023-08-08T00:00:00",
          "2023-08-09T00:00:00",
          "2023-08-10T00:00:00",
          "2023-08-11T00:00:00",
          "2023-08-14T00:00:00",
          "2023-08-15T00:00:00",
          "2023-08-16T00:00:00",
          "2023-08-17T00:00:00",
          "2023-08-18T00:00:00",
          "2023-08-21T00:00:00",
          "2023-08-22T00:00:00",
          "2023-08-23T00:00:00",
          "2023-08-24T00:00:00",
          "2023-08-25T00:00:00",
          "2023-08-28T00:00:00",
          "2023-08-29T00:00:00",
          "2023-08-30T00:00:00",
          "2023-08-31T00:00:00",
          "2023-09-01T00:00:00",
          "2023-09-04T00:00:00",
          "2023-09-05T00:00:00",
          "2023-09-06T00:00:00"
         ]
        }
       ],
       "layout": {
        "template": {
         "data": {
          "bar": [
           {
            "error_x": {
             "color": "#2a3f5f"
            },
            "error_y": {
             "color": "#2a3f5f"
            },
            "marker": {
             "line": {
              "color": "#E5ECF6",
              "width": 0.5
             },
             "pattern": {
              "fillmode": "overlay",
              "size": 10,
              "solidity": 0.2
             }
            },
            "type": "bar"
           }
          ],
          "barpolar": [
           {
            "marker": {
             "line": {
              "color": "#E5ECF6",
              "width": 0.5
             },
             "pattern": {
              "fillmode": "overlay",
              "size": 10,
              "solidity": 0.2
             }
            },
            "type": "barpolar"
           }
          ],
          "carpet": [
           {
            "aaxis": {
             "endlinecolor": "#2a3f5f",
             "gridcolor": "white",
             "linecolor": "white",
             "minorgridcolor": "white",
             "startlinecolor": "#2a3f5f"
            },
            "baxis": {
             "endlinecolor": "#2a3f5f",
             "gridcolor": "white",
             "linecolor": "white",
             "minorgridcolor": "white",
             "startlinecolor": "#2a3f5f"
            },
            "type": "carpet"
           }
          ],
          "choropleth": [
           {
            "colorbar": {
             "outlinewidth": 0,
             "ticks": ""
            },
            "type": "choropleth"
           }
          ],
          "contour": [
           {
            "colorbar": {
             "outlinewidth": 0,
             "ticks": ""
            },
            "colorscale": [
             [
              0,
              "#0d0887"
             ],
             [
              0.1111111111111111,
              "#46039f"
             ],
             [
              0.2222222222222222,
              "#7201a8"
             ],
             [
              0.3333333333333333,
              "#9c179e"
             ],
             [
              0.4444444444444444,
              "#bd3786"
             ],
             [
              0.5555555555555556,
              "#d8576b"
             ],
             [
              0.6666666666666666,
              "#ed7953"
             ],
             [
              0.7777777777777778,
              "#fb9f3a"
             ],
             [
              0.8888888888888888,
              "#fdca26"
             ],
             [
              1,
              "#f0f921"
             ]
            ],
            "type": "contour"
           }
          ],
          "contourcarpet": [
           {
            "colorbar": {
             "outlinewidth": 0,
             "ticks": ""
            },
            "type": "contourcarpet"
           }
          ],
          "heatmap": [
           {
            "colorbar": {
             "outlinewidth": 0,
             "ticks": ""
            },
            "colorscale": [
             [
              0,
              "#0d0887"
             ],
             [
              0.1111111111111111,
              "#46039f"
             ],
             [
              0.2222222222222222,
              "#7201a8"
             ],
             [
              0.3333333333333333,
              "#9c179e"
             ],
             [
              0.4444444444444444,
              "#bd3786"
             ],
             [
              0.5555555555555556,
              "#d8576b"
             ],
             [
              0.6666666666666666,
              "#ed7953"
             ],
             [
              0.7777777777777778,
              "#fb9f3a"
             ],
             [
              0.8888888888888888,
              "#fdca26"
             ],
             [
              1,
              "#f0f921"
             ]
            ],
            "type": "heatmap"
           }
          ],
          "heatmapgl": [
           {
            "colorbar": {
             "outlinewidth": 0,
             "ticks": ""
            },
            "colorscale": [
             [
              0,
              "#0d0887"
             ],
             [
              0.1111111111111111,
              "#46039f"
             ],
             [
              0.2222222222222222,
              "#7201a8"
             ],
             [
              0.3333333333333333,
              "#9c179e"
             ],
             [
              0.4444444444444444,
              "#bd3786"
             ],
             [
              0.5555555555555556,
              "#d8576b"
             ],
             [
              0.6666666666666666,
              "#ed7953"
             ],
             [
              0.7777777777777778,
              "#fb9f3a"
             ],
             [
              0.8888888888888888,
              "#fdca26"
             ],
             [
              1,
              "#f0f921"
             ]
            ],
            "type": "heatmapgl"
           }
          ],
          "histogram": [
           {
            "marker": {
             "pattern": {
              "fillmode": "overlay",
              "size": 10,
              "solidity": 0.2
             }
            },
            "type": "histogram"
           }
          ],
          "histogram2d": [
           {
            "colorbar": {
             "outlinewidth": 0,
             "ticks": ""
            },
            "colorscale": [
             [
              0,
              "#0d0887"
             ],
             [
              0.1111111111111111,
              "#46039f"
             ],
             [
              0.2222222222222222,
              "#7201a8"
             ],
             [
              0.3333333333333333,
              "#9c179e"
             ],
             [
              0.4444444444444444,
              "#bd3786"
             ],
             [
              0.5555555555555556,
              "#d8576b"
             ],
             [
              0.6666666666666666,
              "#ed7953"
             ],
             [
              0.7777777777777778,
              "#fb9f3a"
             ],
             [
              0.8888888888888888,
              "#fdca26"
             ],
             [
              1,
              "#f0f921"
             ]
            ],
            "type": "histogram2d"
           }
          ],
          "histogram2dcontour": [
           {
            "colorbar": {
             "outlinewidth": 0,
             "ticks": ""
            },
            "colorscale": [
             [
              0,
              "#0d0887"
             ],
             [
              0.1111111111111111,
              "#46039f"
             ],
             [
              0.2222222222222222,
              "#7201a8"
             ],
             [
              0.3333333333333333,
              "#9c179e"
             ],
             [
              0.4444444444444444,
              "#bd3786"
             ],
             [
              0.5555555555555556,
              "#d8576b"
             ],
             [
              0.6666666666666666,
              "#ed7953"
             ],
             [
              0.7777777777777778,
              "#fb9f3a"
             ],
             [
              0.8888888888888888,
              "#fdca26"
             ],
             [
              1,
              "#f0f921"
             ]
            ],
            "type": "histogram2dcontour"
           }
          ],
          "mesh3d": [
           {
            "colorbar": {
             "outlinewidth": 0,
             "ticks": ""
            },
            "type": "mesh3d"
           }
          ],
          "parcoords": [
           {
            "line": {
             "colorbar": {
              "outlinewidth": 0,
              "ticks": ""
             }
            },
            "type": "parcoords"
           }
          ],
          "pie": [
           {
            "automargin": true,
            "type": "pie"
           }
          ],
          "scatter": [
           {
            "fillpattern": {
             "fillmode": "overlay",
             "size": 10,
             "solidity": 0.2
            },
            "type": "scatter"
           }
          ],
          "scatter3d": [
           {
            "line": {
             "colorbar": {
              "outlinewidth": 0,
              "ticks": ""
             }
            },
            "marker": {
             "colorbar": {
              "outlinewidth": 0,
              "ticks": ""
             }
            },
            "type": "scatter3d"
           }
          ],
          "scattercarpet": [
           {
            "marker": {
             "colorbar": {
              "outlinewidth": 0,
              "ticks": ""
             }
            },
            "type": "scattercarpet"
           }
          ],
          "scattergeo": [
           {
            "marker": {
             "colorbar": {
              "outlinewidth": 0,
              "ticks": ""
             }
            },
            "type": "scattergeo"
           }
          ],
          "scattergl": [
           {
            "marker": {
             "colorbar": {
              "outlinewidth": 0,
              "ticks": ""
             }
            },
            "type": "scattergl"
           }
          ],
          "scattermapbox": [
           {
            "marker": {
             "colorbar": {
              "outlinewidth": 0,
              "ticks": ""
             }
            },
            "type": "scattermapbox"
           }
          ],
          "scatterpolar": [
           {
            "marker": {
             "colorbar": {
              "outlinewidth": 0,
              "ticks": ""
             }
            },
            "type": "scatterpolar"
           }
          ],
          "scatterpolargl": [
           {
            "marker": {
             "colorbar": {
              "outlinewidth": 0,
              "ticks": ""
             }
            },
            "type": "scatterpolargl"
           }
          ],
          "scatterternary": [
           {
            "marker": {
             "colorbar": {
              "outlinewidth": 0,
              "ticks": ""
             }
            },
            "type": "scatterternary"
           }
          ],
          "surface": [
           {
            "colorbar": {
             "outlinewidth": 0,
             "ticks": ""
            },
            "colorscale": [
             [
              0,
              "#0d0887"
             ],
             [
              0.1111111111111111,
              "#46039f"
             ],
             [
              0.2222222222222222,
              "#7201a8"
             ],
             [
              0.3333333333333333,
              "#9c179e"
             ],
             [
              0.4444444444444444,
              "#bd3786"
             ],
             [
              0.5555555555555556,
              "#d8576b"
             ],
             [
              0.6666666666666666,
              "#ed7953"
             ],
             [
              0.7777777777777778,
              "#fb9f3a"
             ],
             [
              0.8888888888888888,
              "#fdca26"
             ],
             [
              1,
              "#f0f921"
             ]
            ],
            "type": "surface"
           }
          ],
          "table": [
           {
            "cells": {
             "fill": {
              "color": "#EBF0F8"
             },
             "line": {
              "color": "white"
             }
            },
            "header": {
             "fill": {
              "color": "#C8D4E3"
             },
             "line": {
              "color": "white"
             }
            },
            "type": "table"
           }
          ]
         },
         "layout": {
          "annotationdefaults": {
           "arrowcolor": "#2a3f5f",
           "arrowhead": 0,
           "arrowwidth": 1
          },
          "autotypenumbers": "strict",
          "coloraxis": {
           "colorbar": {
            "outlinewidth": 0,
            "ticks": ""
           }
          },
          "colorscale": {
           "diverging": [
            [
             0,
             "#8e0152"
            ],
            [
             0.1,
             "#c51b7d"
            ],
            [
             0.2,
             "#de77ae"
            ],
            [
             0.3,
             "#f1b6da"
            ],
            [
             0.4,
             "#fde0ef"
            ],
            [
             0.5,
             "#f7f7f7"
            ],
            [
             0.6,
             "#e6f5d0"
            ],
            [
             0.7,
             "#b8e186"
            ],
            [
             0.8,
             "#7fbc41"
            ],
            [
             0.9,
             "#4d9221"
            ],
            [
             1,
             "#276419"
            ]
           ],
           "sequential": [
            [
             0,
             "#0d0887"
            ],
            [
             0.1111111111111111,
             "#46039f"
            ],
            [
             0.2222222222222222,
             "#7201a8"
            ],
            [
             0.3333333333333333,
             "#9c179e"
            ],
            [
             0.4444444444444444,
             "#bd3786"
            ],
            [
             0.5555555555555556,
             "#d8576b"
            ],
            [
             0.6666666666666666,
             "#ed7953"
            ],
            [
             0.7777777777777778,
             "#fb9f3a"
            ],
            [
             0.8888888888888888,
             "#fdca26"
            ],
            [
             1,
             "#f0f921"
            ]
           ],
           "sequentialminus": [
            [
             0,
             "#0d0887"
            ],
            [
             0.1111111111111111,
             "#46039f"
            ],
            [
             0.2222222222222222,
             "#7201a8"
            ],
            [
             0.3333333333333333,
             "#9c179e"
            ],
            [
             0.4444444444444444,
             "#bd3786"
            ],
            [
             0.5555555555555556,
             "#d8576b"
            ],
            [
             0.6666666666666666,
             "#ed7953"
            ],
            [
             0.7777777777777778,
             "#fb9f3a"
            ],
            [
             0.8888888888888888,
             "#fdca26"
            ],
            [
             1,
             "#f0f921"
            ]
           ]
          },
          "colorway": [
           "#636efa",
           "#EF553B",
           "#00cc96",
           "#ab63fa",
           "#FFA15A",
           "#19d3f3",
           "#FF6692",
           "#B6E880",
           "#FF97FF",
           "#FECB52"
          ],
          "font": {
           "color": "#2a3f5f"
          },
          "geo": {
           "bgcolor": "white",
           "lakecolor": "white",
           "landcolor": "#E5ECF6",
           "showlakes": true,
           "showland": true,
           "subunitcolor": "white"
          },
          "hoverlabel": {
           "align": "left"
          },
          "hovermode": "closest",
          "mapbox": {
           "style": "light"
          },
          "paper_bgcolor": "white",
          "plot_bgcolor": "#E5ECF6",
          "polar": {
           "angularaxis": {
            "gridcolor": "white",
            "linecolor": "white",
            "ticks": ""
           },
           "bgcolor": "#E5ECF6",
           "radialaxis": {
            "gridcolor": "white",
            "linecolor": "white",
            "ticks": ""
           }
          },
          "scene": {
           "xaxis": {
            "backgroundcolor": "#E5ECF6",
            "gridcolor": "white",
            "gridwidth": 2,
            "linecolor": "white",
            "showbackground": true,
            "ticks": "",
            "zerolinecolor": "white"
           },
           "yaxis": {
            "backgroundcolor": "#E5ECF6",
            "gridcolor": "white",
            "gridwidth": 2,
            "linecolor": "white",
            "showbackground": true,
            "ticks": "",
            "zerolinecolor": "white"
           },
           "zaxis": {
            "backgroundcolor": "#E5ECF6",
            "gridcolor": "white",
            "gridwidth": 2,
            "linecolor": "white",
            "showbackground": true,
            "ticks": "",
            "zerolinecolor": "white"
           }
          },
          "shapedefaults": {
           "line": {
            "color": "#2a3f5f"
           }
          },
          "ternary": {
           "aaxis": {
            "gridcolor": "white",
            "linecolor": "white",
            "ticks": ""
           },
           "baxis": {
            "gridcolor": "white",
            "linecolor": "white",
            "ticks": ""
           },
           "bgcolor": "#E5ECF6",
           "caxis": {
            "gridcolor": "white",
            "linecolor": "white",
            "ticks": ""
           }
          },
          "title": {
           "x": 0.05
          },
          "xaxis": {
           "automargin": true,
           "gridcolor": "white",
           "linecolor": "white",
           "ticks": "",
           "title": {
            "standoff": 15
           },
           "zerolinecolor": "white",
           "zerolinewidth": 2
          },
          "yaxis": {
           "automargin": true,
           "gridcolor": "white",
           "linecolor": "white",
           "ticks": "",
           "title": {
            "standoff": 15
           },
           "zerolinecolor": "white",
           "zerolinewidth": 2
          }
         }
        }
       }
      }
     },
     "metadata": {},
     "output_type": "display_data"
    }
   ],
   "source": [
    "interactive_chart(prices, 'PETR4.SA')"
   ]
  }
 ],
 "metadata": {
  "kernelspec": {
   "display_name": "Python 3 (ipykernel)",
   "language": "python",
   "name": "python3"
  },
  "language_info": {
   "codemirror_mode": {
    "name": "ipython",
    "version": 3
   },
   "file_extension": ".py",
   "mimetype": "text/x-python",
   "name": "python",
   "nbconvert_exporter": "python",
   "pygments_lexer": "ipython3",
   "version": "3.10.12"
  },
  "varInspector": {
   "cols": {
    "lenName": 16,
    "lenType": 16,
    "lenVar": 40
   },
   "kernels_config": {
    "python": {
     "delete_cmd_postfix": "",
     "delete_cmd_prefix": "del ",
     "library": "var_list.py",
     "varRefreshCmd": "print(var_dic_list())"
    },
    "r": {
     "delete_cmd_postfix": ") ",
     "delete_cmd_prefix": "rm(",
     "library": "var_list.r",
     "varRefreshCmd": "cat(var_dic_list()) "
    }
   },
   "types_to_exclude": [
    "module",
    "function",
    "builtin_function_or_method",
    "instance",
    "_Feature"
   ],
   "window_display": false
  }
 },
 "nbformat": 4,
 "nbformat_minor": 5
}
